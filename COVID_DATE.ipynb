{
 "cells": [
  {
   "cell_type": "code",
   "execution_count": 44,
   "metadata": {},
   "outputs": [],
   "source": [
    "import requests\n",
    "import json\n",
    "import pandas as pd\n",
    "import numpy as np\n",
    "import matplotlib.pyplot as plt\n",
    "import math as math"
   ]
  },
  {
   "cell_type": "code",
   "execution_count": 45,
   "metadata": {},
   "outputs": [],
   "source": [
    "# All 'info' api requests & urls for ClinicalTrials.gov\n",
    "\n",
    "fields_url = 'http://ClinicalTrials.gov/api/info/study_fields_list?fmt=JSON'\n",
    "studyFields = requests.get(fields_url).json()\n",
    "\n",
    "def_url = 'http://ClinicalTrials.gov/api/info/api_defs?fmt=JSON'\n",
    "api_def = requests.get(def_url).json()\n",
    "\n",
    "struct_url = 'http://ClinicalTrials.gov/api/info/study_structure?fmt=JSON'\n",
    "api_struct = requests.get(struct_url).json()\n",
    "\n",
    "stats_url = 'http://ClinicalTrials.gov/api/info/study_statistics?fmt=JSON'\n",
    "study_stats = requests.get(stats_url).json()\n",
    "\n",
    "areas_url = 'http://ClinicalTrials.gov/api/info/search_areas?fmt=JSON'\n",
    "search_areas = requests.get(areas_url).json()"
   ]
  },
  {
   "cell_type": "code",
   "execution_count": 75,
   "metadata": {},
   "outputs": [
    {
     "data": {
      "text/plain": [
       "2788"
      ]
     },
     "execution_count": 75,
     "metadata": {},
     "output_type": "execute_result"
    }
   ],
   "source": [
    "# We want to search through api to find results relevant to covid 19\n",
    "\n",
    "query_term1 = 'covid 19'\n",
    "query_term1 = query_term1.strip()\n",
    "query_term1 = query_term1.replace(' ', '+')\n",
    "query_term1 = query_term1.replace('&', '%26')\n",
    "fullStudyQ1_url = f'http://ClinicalTrials.gov/api/query/study_fields?&expr={query_term1}\\\n",
    "                     &min_rnk=2000&max_rnk=2010&fields=NCTId,BriefTitle,StatusVerifiedDate,CompletionDate&fmt=JSON'\n",
    "fullStudyQ1 = requests.get(fullStudyQ1_url).json()\n",
    "fullStudyQ1['StudyFieldsResponse']['NStudiesFound']"
   ]
  },
  {
   "cell_type": "code",
   "execution_count": 76,
   "metadata": {},
   "outputs": [
    {
     "data": {
      "text/plain": [
       "1423"
      ]
     },
     "execution_count": 76,
     "metadata": {},
     "output_type": "execute_result"
    }
   ],
   "source": [
    "# Studies on the fringe of having relevant data may only appear through a second query: 'coronavirus'\n",
    "\n",
    "query_term2 = 'coronavirus'\n",
    "query_term2 = query_term2.strip()\n",
    "query_term2 = query_term2.replace(' ', '+') #via ClinicalTrials api guidelines\n",
    "query_term2 = query_term2.replace('&', '%26') #^^^\n",
    "fullStudyQ2_url = f'http://ClinicalTrials.gov/api/query/study_fields?&expr={query_term2}\\\n",
    "                     &min_rnk=1&fields=NCTId,BriefTitle,StatusVerifiedDate,CompletionDate&fmt=JSON'\n",
    "fullStudyQ2 = requests.get(fullStudyQ2_url).json() # api requested json object\n",
    "fullStudyQ2['StudyFieldsResponse']['NStudiesFound']  #number of studies returned by the query"
   ]
  },
  {
   "cell_type": "code",
   "execution_count": 48,
   "metadata": {},
   "outputs": [],
   "source": [
    "limit1 = fullStudyQ1['StudyFieldsResponse']['NStudiesFound'] #make sure we don't ask for results outside of the scope of our query\n",
    "\n",
    "tempURL1 = f'http://ClinicalTrials.gov/api/query/study_fields?&expr={query_term1}\\\n",
    "           &min_rnk=1&max_rnk=1000&fields=NCTId,BriefTitle,StatusVerifiedDate,CompletionDate&fmt=JSON'   # the data is large, and must be queried in packets of 1,000\n",
    "tempL1 = requests.get(tempURL1).json()\n",
    "\n",
    "tempURL2 = f'http://ClinicalTrials.gov/api/query/study_fields?&expr={query_term1}\\\n",
    "           &min_rnk=1001&max_rnk=2000&fields=NCTId,BriefTitle,StatusVerifiedDate,CompletionDate&fmt=JSON' # creating 3 url targets for our packets\n",
    "tempL2 = requests.get(tempURL2).json()                                                                    # creating 3 temporary json request data\n",
    "\n",
    "tempURL3 = f'http://ClinicalTrials.gov/api/query/study_fields?&expr={query_term1}\\\n",
    "           &min_rnk=2001&max_rnk={limit1}&fields=NCTId,BriefTitle,StatusVerifiedDate,CompletionDate&fmt=JSON'\n",
    "tempL3 = requests.get(tempURL3).json()\n",
    "\n",
    "Q1_tempL1 = tempL1['StudyFieldsResponse']['StudyFields']\n",
    "Q1_tempL2 = tempL2['StudyFieldsResponse']['StudyFields']\n",
    "Q1_tempL3 = tempL3['StudyFieldsResponse']['StudyFields']"
   ]
  },
  {
   "cell_type": "code",
   "execution_count": 59,
   "metadata": {},
   "outputs": [],
   "source": [
    "limit2 = fullStudyQ2['StudyFieldsResponse']['NStudiesFound']\n",
    "\n",
    "tempURL1 = f'http://ClinicalTrials.gov/api/query/study_fields?&expr={query_term1}\\\n",
    "           &min_rnk=1&max_rnk=1000&fields=NCTId,BriefTitle,StatusVerifiedDate,CompletionDate&fmt=JSON'\n",
    "tempL1 = requests.get(tempURL1).json()\n",
    "\n",
    "tempURL2 = f'http://ClinicalTrials.gov/api/query/study_fields?&expr={query_term1}\\\n",
    "           &min_rnk=1001&max_rnk={limit2}&fields=NCTId,BriefTitle,StatusVerifiedDate,CompletionDate&fmt=JSON'\n",
    "tempL2 = requests.get(tempURL2).json()\n",
    "\n",
    "\n",
    "Q2_tempL1 = tempL1['StudyFieldsResponse']['StudyFields']\n",
    "Q2_tempL2 = tempL2['StudyFieldsResponse']['StudyFields']\n"
   ]
  },
  {
   "cell_type": "code",
   "execution_count": 60,
   "metadata": {},
   "outputs": [],
   "source": [
    "Q1_tempDF1 = pd.DataFrame(Q1_tempL1)\n",
    "Q1_tempDF2 = pd.DataFrame(Q1_tempL2)\n",
    "Q1_tempDF3 = pd.DataFrame(Q1_tempL3)\n",
    "\n",
    "Q2_tempDF1 = pd.DataFrame(Q2_tempL1)\n",
    "Q2_tempDF2 = pd.DataFrame(Q2_tempL2)"
   ]
  },
  {
   "cell_type": "code",
   "execution_count": 64,
   "metadata": {},
   "outputs": [],
   "source": [
    "#returns single list of col values from all 3 temp DF's \n",
    "\n",
    "def unListItems(q, col):\n",
    "    if q == 'Q1':\n",
    "        lst_1 = [' ']*len(Q1_tempDF1[col])  # create empty list the length of 'Q1_tempDF1[col]'\n",
    "        i = 0\n",
    "        while i < len(Q1_tempDF1[col]):\n",
    "            lst_1[i] = Q1_tempDF1[col][i][0]\n",
    "            i += 1\n",
    "        lst_2 = [' ']*len(Q1_tempDF2[col])\n",
    "        i = 0\n",
    "        while i < len(Q1_tempDF2[col]):\n",
    "            lst_2[i] = Q1_tempDF2[col][i][0]\n",
    "            i += 1      \n",
    "        lst_3 = [' ']*len(Q1_tempDF3[col])\n",
    "        i = 0\n",
    "        while i < len(Q1_tempDF3[col]):\n",
    "            lst_3[i] = Q1_tempDF3[col][i][0]\n",
    "            i += 1\n",
    "        LIST = lst_1 + lst_2 + lst_3\n",
    "        return LIST\n",
    "    \n",
    "    elif q == 'Q2':\n",
    "        lst_1 = [' ']*len(Q2_tempDF1[col])\n",
    "        i = 0\n",
    "        while i < len(Q2_tempDF1[col]):\n",
    "            lst_1[i] = Q2_tempDF1[col][i][0]\n",
    "            i += 1\n",
    "        lst_2 = [' ']*len(Q2_tempDF2[col])\n",
    "        i = 0\n",
    "        while i < len(Q2_tempDF2[col]):\n",
    "            lst_2[i] = Q2_tempDF2[col][i][0]\n",
    "            i += 1       \n",
    "        LIST = lst_1 + lst_2\n",
    "        return LIST"
   ]
  },
  {
   "cell_type": "code",
   "execution_count": 65,
   "metadata": {},
   "outputs": [],
   "source": [
    "#retrive unListed Items, populate Query1 DataFrame with query results from id, title, and date keys\n",
    "\n",
    "ID = unListItems('Q1','NCTId')\n",
    "Title = unListItems('Q1','BriefTitle')\n",
    "VerifiedDate = unListItems('Q1','StatusVerifiedDate')\n",
    "\n",
    "DATE_Q1 = pd.DataFrame()\n",
    "DATE_Q1.insert(0, 'ID', ID)\n",
    "DATE_Q1.insert(1, 'Title', Title)\n",
    "DATE_Q1.insert(2, 'Date Verified', VerifiedDate)"
   ]
  },
  {
   "cell_type": "code",
   "execution_count": 66,
   "metadata": {},
   "outputs": [],
   "source": [
    "# ^^^ --> Query2\n",
    "\n",
    "ID = unListItems('Q2','NCTId')\n",
    "Title = unListItems('Q2','BriefTitle')\n",
    "VerifiedDate = unListItems('Q2','StatusVerifiedDate')\n",
    "\n",
    "DATE_Q2 = pd.DataFrame()\n",
    "DATE_Q2.insert(0, 'ID', ID)\n",
    "DATE_Q2.insert(1, 'Title', Title)\n",
    "DATE_Q2.insert(2, 'Date Verified', VerifiedDate)"
   ]
  },
  {
   "cell_type": "code",
   "execution_count": 71,
   "metadata": {},
   "outputs": [],
   "source": [
    "COVID19_DATES = pd.concat([DATE_Q1, DATE_Q2], ignore_index=True)"
   ]
  },
  {
   "cell_type": "code",
   "execution_count": 73,
   "metadata": {},
   "outputs": [
    {
     "data": {
      "text/plain": [
       "2788"
      ]
     },
     "execution_count": 73,
     "metadata": {},
     "output_type": "execute_result"
    }
   ],
   "source": [
    "COVID19_DATES['ID'].nunique()"
   ]
  },
  {
   "cell_type": "code",
   "execution_count": 77,
   "metadata": {},
   "outputs": [],
   "source": [
    "COVID19_DATES = DATE_Q1"
   ]
  },
  {
   "cell_type": "code",
   "execution_count": 78,
   "metadata": {},
   "outputs": [
    {
     "data": {
      "text/html": [
       "<div>\n",
       "<style scoped>\n",
       "    .dataframe tbody tr th:only-of-type {\n",
       "        vertical-align: middle;\n",
       "    }\n",
       "\n",
       "    .dataframe tbody tr th {\n",
       "        vertical-align: top;\n",
       "    }\n",
       "\n",
       "    .dataframe thead th {\n",
       "        text-align: right;\n",
       "    }\n",
       "</style>\n",
       "<table border=\"1\" class=\"dataframe\">\n",
       "  <thead>\n",
       "    <tr style=\"text-align: right;\">\n",
       "      <th></th>\n",
       "      <th>ID</th>\n",
       "      <th>Title</th>\n",
       "      <th>Date Verified</th>\n",
       "    </tr>\n",
       "  </thead>\n",
       "  <tbody>\n",
       "    <tr>\n",
       "      <th>0</th>\n",
       "      <td>NCT04395482</td>\n",
       "      <td>Lung CT Scan Analysis of SARS-CoV2 Induced Lun...</td>\n",
       "      <td>May 2020</td>\n",
       "    </tr>\n",
       "    <tr>\n",
       "      <th>1</th>\n",
       "      <td>NCT04395924</td>\n",
       "      <td>Maternal-foetal Transmission of SARS-Cov-2</td>\n",
       "      <td>June 2020</td>\n",
       "    </tr>\n",
       "    <tr>\n",
       "      <th>2</th>\n",
       "      <td>NCT04476940</td>\n",
       "      <td>COVID-19 Breastfeeding Guideline for African-A...</td>\n",
       "      <td>July 2020</td>\n",
       "    </tr>\n",
       "    <tr>\n",
       "      <th>3</th>\n",
       "      <td>NCT04412265</td>\n",
       "      <td>Frailty in Elderly Patients With COVID-19</td>\n",
       "      <td>June 2020</td>\n",
       "    </tr>\n",
       "    <tr>\n",
       "      <th>4</th>\n",
       "      <td>NCT04427332</td>\n",
       "      <td>Smell and Taste Disorders in COVID-19 Patients</td>\n",
       "      <td>June 2020</td>\n",
       "    </tr>\n",
       "    <tr>\n",
       "      <th>...</th>\n",
       "      <td>...</td>\n",
       "      <td>...</td>\n",
       "      <td>...</td>\n",
       "    </tr>\n",
       "    <tr>\n",
       "      <th>2783</th>\n",
       "      <td>NCT03728257</td>\n",
       "      <td>Lung Transplant G0 (LTGO): Improving Self-Mana...</td>\n",
       "      <td>June 2020</td>\n",
       "    </tr>\n",
       "    <tr>\n",
       "      <th>2784</th>\n",
       "      <td>NCT03823469</td>\n",
       "      <td>Evaluating the Impact of a Culinary Coaching T...</td>\n",
       "      <td>May 2020</td>\n",
       "    </tr>\n",
       "    <tr>\n",
       "      <th>2785</th>\n",
       "      <td>NCT04429061</td>\n",
       "      <td>Reaching 90 90 90 in Adolescents in Zambia: Us...</td>\n",
       "      <td>June 2020</td>\n",
       "    </tr>\n",
       "    <tr>\n",
       "      <th>2786</th>\n",
       "      <td>NCT03922334</td>\n",
       "      <td>Navigating New Motherhood 2</td>\n",
       "      <td>June 2020</td>\n",
       "    </tr>\n",
       "    <tr>\n",
       "      <th>2787</th>\n",
       "      <td>NCT04180709</td>\n",
       "      <td>CBT to Reduce Insomnia and Improve Social Reco...</td>\n",
       "      <td>June 2020</td>\n",
       "    </tr>\n",
       "  </tbody>\n",
       "</table>\n",
       "<p>2788 rows × 3 columns</p>\n",
       "</div>"
      ],
      "text/plain": [
       "               ID                                              Title  \\\n",
       "0     NCT04395482  Lung CT Scan Analysis of SARS-CoV2 Induced Lun...   \n",
       "1     NCT04395924         Maternal-foetal Transmission of SARS-Cov-2   \n",
       "2     NCT04476940  COVID-19 Breastfeeding Guideline for African-A...   \n",
       "3     NCT04412265          Frailty in Elderly Patients With COVID-19   \n",
       "4     NCT04427332     Smell and Taste Disorders in COVID-19 Patients   \n",
       "...           ...                                                ...   \n",
       "2783  NCT03728257  Lung Transplant G0 (LTGO): Improving Self-Mana...   \n",
       "2784  NCT03823469  Evaluating the Impact of a Culinary Coaching T...   \n",
       "2785  NCT04429061  Reaching 90 90 90 in Adolescents in Zambia: Us...   \n",
       "2786  NCT03922334                        Navigating New Motherhood 2   \n",
       "2787  NCT04180709  CBT to Reduce Insomnia and Improve Social Reco...   \n",
       "\n",
       "     Date Verified  \n",
       "0         May 2020  \n",
       "1        June 2020  \n",
       "2        July 2020  \n",
       "3        June 2020  \n",
       "4        June 2020  \n",
       "...            ...  \n",
       "2783     June 2020  \n",
       "2784      May 2020  \n",
       "2785     June 2020  \n",
       "2786     June 2020  \n",
       "2787     June 2020  \n",
       "\n",
       "[2788 rows x 3 columns]"
      ]
     },
     "execution_count": 78,
     "metadata": {},
     "output_type": "execute_result"
    }
   ],
   "source": [
    "COVID19_DATES"
   ]
  },
  {
   "cell_type": "code",
   "execution_count": 79,
   "metadata": {},
   "outputs": [],
   "source": [
    "COVID19_DATES"
   ]
  },
  {
   "cell_type": "code",
   "execution_count": 81,
   "metadata": {},
   "outputs": [
    {
     "data": {
      "text/html": [
       "<div>\n",
       "<style scoped>\n",
       "    .dataframe tbody tr th:only-of-type {\n",
       "        vertical-align: middle;\n",
       "    }\n",
       "\n",
       "    .dataframe tbody tr th {\n",
       "        vertical-align: top;\n",
       "    }\n",
       "\n",
       "    .dataframe thead th {\n",
       "        text-align: right;\n",
       "    }\n",
       "</style>\n",
       "<table border=\"1\" class=\"dataframe\">\n",
       "  <thead>\n",
       "    <tr style=\"text-align: right;\">\n",
       "      <th></th>\n",
       "      <th>ID</th>\n",
       "      <th>Title</th>\n",
       "      <th>Date Verified</th>\n",
       "    </tr>\n",
       "  </thead>\n",
       "  <tbody>\n",
       "    <tr>\n",
       "      <th>0</th>\n",
       "      <td>NCT04395482</td>\n",
       "      <td>Lung CT Scan Analysis of SARS-CoV2 Induced Lun...</td>\n",
       "      <td>May 2020</td>\n",
       "    </tr>\n",
       "    <tr>\n",
       "      <th>1</th>\n",
       "      <td>NCT04395924</td>\n",
       "      <td>Maternal-foetal Transmission of SARS-Cov-2</td>\n",
       "      <td>June 2020</td>\n",
       "    </tr>\n",
       "    <tr>\n",
       "      <th>2</th>\n",
       "      <td>NCT04476940</td>\n",
       "      <td>COVID-19 Breastfeeding Guideline for African-A...</td>\n",
       "      <td>July 2020</td>\n",
       "    </tr>\n",
       "    <tr>\n",
       "      <th>3</th>\n",
       "      <td>NCT04412265</td>\n",
       "      <td>Frailty in Elderly Patients With COVID-19</td>\n",
       "      <td>June 2020</td>\n",
       "    </tr>\n",
       "    <tr>\n",
       "      <th>4</th>\n",
       "      <td>NCT04427332</td>\n",
       "      <td>Smell and Taste Disorders in COVID-19 Patients</td>\n",
       "      <td>June 2020</td>\n",
       "    </tr>\n",
       "    <tr>\n",
       "      <th>...</th>\n",
       "      <td>...</td>\n",
       "      <td>...</td>\n",
       "      <td>...</td>\n",
       "    </tr>\n",
       "    <tr>\n",
       "      <th>2508</th>\n",
       "      <td>NCT04061382</td>\n",
       "      <td>Sero-epidemiological Survey of England in 2019...</td>\n",
       "      <td>July 2019</td>\n",
       "    </tr>\n",
       "    <tr>\n",
       "      <th>2682</th>\n",
       "      <td>NCT01306084</td>\n",
       "      <td>Viral Infections in Healthy and Immunocompromi...</td>\n",
       "      <td>June 25, 2020</td>\n",
       "    </tr>\n",
       "    <tr>\n",
       "      <th>2697</th>\n",
       "      <td>NCT02656381</td>\n",
       "      <td>Uveitis/Intraocular Inflammatory Disease Bioba...</td>\n",
       "      <td>May 4, 2020</td>\n",
       "    </tr>\n",
       "    <tr>\n",
       "      <th>2715</th>\n",
       "      <td>NCT04278404</td>\n",
       "      <td>Pharmacokinetics, Pharmacodynamics, and Safety...</td>\n",
       "      <td>October 2019</td>\n",
       "    </tr>\n",
       "    <tr>\n",
       "      <th>2762</th>\n",
       "      <td>NCT04025580</td>\n",
       "      <td>Systems Analyses of the Immune Response to the...</td>\n",
       "      <td>June 25, 2020</td>\n",
       "    </tr>\n",
       "  </tbody>\n",
       "</table>\n",
       "<p>87 rows × 3 columns</p>\n",
       "</div>"
      ],
      "text/plain": [
       "               ID                                              Title  \\\n",
       "0     NCT04395482  Lung CT Scan Analysis of SARS-CoV2 Induced Lun...   \n",
       "1     NCT04395924         Maternal-foetal Transmission of SARS-Cov-2   \n",
       "2     NCT04476940  COVID-19 Breastfeeding Guideline for African-A...   \n",
       "3     NCT04412265          Frailty in Elderly Patients With COVID-19   \n",
       "4     NCT04427332     Smell and Taste Disorders in COVID-19 Patients   \n",
       "...           ...                                                ...   \n",
       "2508  NCT04061382  Sero-epidemiological Survey of England in 2019...   \n",
       "2682  NCT01306084  Viral Infections in Healthy and Immunocompromi...   \n",
       "2697  NCT02656381  Uveitis/Intraocular Inflammatory Disease Bioba...   \n",
       "2715  NCT04278404  Pharmacokinetics, Pharmacodynamics, and Safety...   \n",
       "2762  NCT04025580  Systems Analyses of the Immune Response to the...   \n",
       "\n",
       "      Date Verified  \n",
       "0          May 2020  \n",
       "1         June 2020  \n",
       "2         July 2020  \n",
       "3         June 2020  \n",
       "4         June 2020  \n",
       "...             ...  \n",
       "2508      July 2019  \n",
       "2682  June 25, 2020  \n",
       "2697    May 4, 2020  \n",
       "2715   October 2019  \n",
       "2762  June 25, 2020  \n",
       "\n",
       "[87 rows x 3 columns]"
      ]
     },
     "execution_count": 81,
     "metadata": {},
     "output_type": "execute_result"
    }
   ],
   "source": []
  },
  {
   "cell_type": "code",
   "execution_count": null,
   "metadata": {},
   "outputs": [],
   "source": []
  }
 ],
 "metadata": {
  "kernelspec": {
   "display_name": "Python 3",
   "language": "python",
   "name": "python3"
  },
  "language_info": {
   "codemirror_mode": {
    "name": "ipython",
    "version": 3
   },
   "file_extension": ".py",
   "mimetype": "text/x-python",
   "name": "python",
   "nbconvert_exporter": "python",
   "pygments_lexer": "ipython3",
   "version": "3.7.6"
  }
 },
 "nbformat": 4,
 "nbformat_minor": 4
}
